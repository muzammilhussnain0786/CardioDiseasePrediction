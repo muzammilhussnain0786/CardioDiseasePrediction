{
 "cells": [
  {
   "cell_type": "markdown",
   "id": "6a215fa3",
   "metadata": {},
   "source": [
    "# Load Data"
   ]
  },
  {
   "cell_type": "markdown",
   "id": "e940d9d0",
   "metadata": {},
   "source": [
    "load data from csv file. Dataset is from [Kaggle](https://www.kaggle.com/daviddraper1518/predicting-student-grades)"
   ]
  },
  {
   "cell_type": "code",
   "execution_count": 16,
   "id": "6af3de83",
   "metadata": {},
   "outputs": [
    {
     "data": {
      "text/plain": "              PPID           PP          EAL          SEN     Att8Est  \\\ncount  1037.000000  1034.000000  1037.000000  1033.000000  987.000000   \nmean    500.378978     0.345261     0.103182     0.240077    4.261601   \nstd     294.711937     0.475683     0.304344     0.427337    1.274717   \nmin       1.000000     0.000000     0.000000     0.000000    1.500000   \n25%     259.000000     0.000000     0.000000     0.000000    3.400000   \n50%     498.000000     0.000000     0.000000     0.000000    4.100000   \n75%     747.000000     1.000000     0.000000     0.000000    5.100000   \nmax    1037.000000     1.000000     1.000000     1.000000    7.700000   \n\n           Att8Act    Att8Diff      EngEst       EngAct     EngDiff  \\\ncount  1036.000000  987.000000  987.000000  1036.000000  987.000000   \nmean      3.661100   -0.631682    4.620061     4.079344   -0.550061   \nstd       1.664596    1.323029    1.160193     1.823130    1.591003   \nmin       0.000000   -6.810000    1.900000     0.000000   -6.940000   \n25%       2.500000   -1.455000    3.900000     3.000000   -1.520000   \n50%       3.650000   -0.620000    4.600000     4.000000   -0.570000   \n75%       4.700000    0.210000    5.400000     5.500000    0.470000   \nmax       8.500000    4.040000    7.600000     9.000000    4.670000   \n\n         MathsEst     MathsAct   MathsDiff    EbaccEst     EbaccAct  \\\ncount  987.000000  1036.000000  987.000000  987.000000  1036.000000   \nmean     4.103749     3.700772   -0.445937    3.774367     2.669112   \nstd      1.407433     1.920834    1.465290    1.482994     1.940962   \nmin      1.100000     0.000000   -7.010000    0.700000     0.000000   \n25%      3.100000     3.000000   -1.280000    2.800000     1.000000   \n50%      4.100000     4.000000   -0.530000    3.700000     2.300000   \n75%      5.000000     5.000000    0.420000    4.800000     4.000000   \nmax      7.900000     9.000000    4.800000    7.900000     9.000000   \n\n        EbaccDiff  \ncount  987.000000  \nmean    -1.120324  \nstd      1.611944  \nmin     -6.650000  \n25%     -2.150000  \n50%     -1.160000  \n75%     -0.140000  \nmax      4.680000  ",
      "text/html": "<div>\n<style scoped>\n    .dataframe tbody tr th:only-of-type {\n        vertical-align: middle;\n    }\n\n    .dataframe tbody tr th {\n        vertical-align: top;\n    }\n\n    .dataframe thead th {\n        text-align: right;\n    }\n</style>\n<table border=\"1\" class=\"dataframe\">\n  <thead>\n    <tr style=\"text-align: right;\">\n      <th></th>\n      <th>PPID</th>\n      <th>PP</th>\n      <th>EAL</th>\n      <th>SEN</th>\n      <th>Att8Est</th>\n      <th>Att8Act</th>\n      <th>Att8Diff</th>\n      <th>EngEst</th>\n      <th>EngAct</th>\n      <th>EngDiff</th>\n      <th>MathsEst</th>\n      <th>MathsAct</th>\n      <th>MathsDiff</th>\n      <th>EbaccEst</th>\n      <th>EbaccAct</th>\n      <th>EbaccDiff</th>\n    </tr>\n  </thead>\n  <tbody>\n    <tr>\n      <th>count</th>\n      <td>1037.000000</td>\n      <td>1034.000000</td>\n      <td>1037.000000</td>\n      <td>1033.000000</td>\n      <td>987.000000</td>\n      <td>1036.000000</td>\n      <td>987.000000</td>\n      <td>987.000000</td>\n      <td>1036.000000</td>\n      <td>987.000000</td>\n      <td>987.000000</td>\n      <td>1036.000000</td>\n      <td>987.000000</td>\n      <td>987.000000</td>\n      <td>1036.000000</td>\n      <td>987.000000</td>\n    </tr>\n    <tr>\n      <th>mean</th>\n      <td>500.378978</td>\n      <td>0.345261</td>\n      <td>0.103182</td>\n      <td>0.240077</td>\n      <td>4.261601</td>\n      <td>3.661100</td>\n      <td>-0.631682</td>\n      <td>4.620061</td>\n      <td>4.079344</td>\n      <td>-0.550061</td>\n      <td>4.103749</td>\n      <td>3.700772</td>\n      <td>-0.445937</td>\n      <td>3.774367</td>\n      <td>2.669112</td>\n      <td>-1.120324</td>\n    </tr>\n    <tr>\n      <th>std</th>\n      <td>294.711937</td>\n      <td>0.475683</td>\n      <td>0.304344</td>\n      <td>0.427337</td>\n      <td>1.274717</td>\n      <td>1.664596</td>\n      <td>1.323029</td>\n      <td>1.160193</td>\n      <td>1.823130</td>\n      <td>1.591003</td>\n      <td>1.407433</td>\n      <td>1.920834</td>\n      <td>1.465290</td>\n      <td>1.482994</td>\n      <td>1.940962</td>\n      <td>1.611944</td>\n    </tr>\n    <tr>\n      <th>min</th>\n      <td>1.000000</td>\n      <td>0.000000</td>\n      <td>0.000000</td>\n      <td>0.000000</td>\n      <td>1.500000</td>\n      <td>0.000000</td>\n      <td>-6.810000</td>\n      <td>1.900000</td>\n      <td>0.000000</td>\n      <td>-6.940000</td>\n      <td>1.100000</td>\n      <td>0.000000</td>\n      <td>-7.010000</td>\n      <td>0.700000</td>\n      <td>0.000000</td>\n      <td>-6.650000</td>\n    </tr>\n    <tr>\n      <th>25%</th>\n      <td>259.000000</td>\n      <td>0.000000</td>\n      <td>0.000000</td>\n      <td>0.000000</td>\n      <td>3.400000</td>\n      <td>2.500000</td>\n      <td>-1.455000</td>\n      <td>3.900000</td>\n      <td>3.000000</td>\n      <td>-1.520000</td>\n      <td>3.100000</td>\n      <td>3.000000</td>\n      <td>-1.280000</td>\n      <td>2.800000</td>\n      <td>1.000000</td>\n      <td>-2.150000</td>\n    </tr>\n    <tr>\n      <th>50%</th>\n      <td>498.000000</td>\n      <td>0.000000</td>\n      <td>0.000000</td>\n      <td>0.000000</td>\n      <td>4.100000</td>\n      <td>3.650000</td>\n      <td>-0.620000</td>\n      <td>4.600000</td>\n      <td>4.000000</td>\n      <td>-0.570000</td>\n      <td>4.100000</td>\n      <td>4.000000</td>\n      <td>-0.530000</td>\n      <td>3.700000</td>\n      <td>2.300000</td>\n      <td>-1.160000</td>\n    </tr>\n    <tr>\n      <th>75%</th>\n      <td>747.000000</td>\n      <td>1.000000</td>\n      <td>0.000000</td>\n      <td>0.000000</td>\n      <td>5.100000</td>\n      <td>4.700000</td>\n      <td>0.210000</td>\n      <td>5.400000</td>\n      <td>5.500000</td>\n      <td>0.470000</td>\n      <td>5.000000</td>\n      <td>5.000000</td>\n      <td>0.420000</td>\n      <td>4.800000</td>\n      <td>4.000000</td>\n      <td>-0.140000</td>\n    </tr>\n    <tr>\n      <th>max</th>\n      <td>1037.000000</td>\n      <td>1.000000</td>\n      <td>1.000000</td>\n      <td>1.000000</td>\n      <td>7.700000</td>\n      <td>8.500000</td>\n      <td>4.040000</td>\n      <td>7.600000</td>\n      <td>9.000000</td>\n      <td>4.670000</td>\n      <td>7.900000</td>\n      <td>9.000000</td>\n      <td>4.800000</td>\n      <td>7.900000</td>\n      <td>9.000000</td>\n      <td>4.680000</td>\n    </tr>\n  </tbody>\n</table>\n</div>"
     },
     "execution_count": 16,
     "metadata": {},
     "output_type": "execute_result"
    }
   ],
   "source": [
    "import pandas as pd\n",
    "\n",
    "file_path = 'students_dataset.csv'\n",
    "\n",
    "students_data_frame = pd.read_csv(file_path)\n",
    "\n",
    "students_data_frame.describe()\n",
    "#students_data_frame.info()"
   ]
  },
  {
   "cell_type": "markdown",
   "id": "15527f02",
   "metadata": {
    "pycharm": {
     "name": "#%% md\n"
    }
   },
   "source": [
    "# Selecting Data for Modeling\n",
    "\n",
    "First let's drop the null values"
   ]
  },
  {
   "cell_type": "code",
   "source": [
    "students_data_frame = students_data_frame.dropna()\n",
    "students_data_frame.describe()"
   ],
   "metadata": {
    "collapsed": false,
    "pycharm": {
     "name": "#%%\n"
    }
   },
   "execution_count": 17,
   "outputs": [
    {
     "data": {
      "text/plain": "              PPID         PP         EAL         SEN     Att8Est     Att8Act  \\\ncount   910.000000  910.00000  910.000000  910.000000  910.000000  910.000000   \nmean    495.145055    0.33956    0.087912    0.250549    4.290330    3.658242   \nstd     297.315060    0.47382    0.283323    0.433568    1.268565    1.679401   \nmin       1.000000    0.00000    0.000000    0.000000    1.500000    0.000000   \n25%     250.000000    0.00000    0.000000    0.000000    3.400000    2.500000   \n50%     483.500000    0.00000    0.000000    0.000000    4.300000    3.700000   \n75%     743.000000    1.00000    0.000000    0.750000    5.100000    4.700000   \nmax    1037.000000    1.00000    1.000000    1.000000    7.700000    8.500000   \n\n         Att8Diff      EngEst      EngAct     EngDiff    MathsEst    MathsAct  \\\ncount  910.000000  910.000000  910.000000  910.000000  910.000000  910.000000   \nmean    -0.643418    4.644505    4.093077   -0.553516    4.127582    3.675275   \nstd      1.322242    1.156893    1.843589    1.595495    1.407202    1.907023   \nmin     -6.810000    1.900000    0.000000   -6.940000    1.100000    0.000000   \n25%     -1.417500    3.900000    3.000000   -1.560000    3.200000    3.000000   \n50%     -0.630000    4.600000    4.000000   -0.580000    4.100000    4.000000   \n75%      0.210000    5.400000    5.500000    0.470000    5.000000    5.000000   \nmax      4.040000    7.600000    9.000000    4.670000    7.900000    9.000000   \n\n        MathsDiff    EbaccEst    EbaccAct   EbaccDiff  \ncount  910.000000  910.000000  910.000000  910.000000  \nmean    -0.456297    3.820769    2.695714   -1.119802  \nstd      1.455472    1.466876    1.938009    1.596325  \nmin     -7.010000    0.700000    0.000000   -6.650000  \n25%     -1.280000    2.800000    1.000000   -2.140000  \n50%     -0.500000    3.800000    2.300000   -1.160000  \n75%      0.407500    4.800000    4.000000   -0.117500  \nmax      4.800000    7.900000    9.000000    4.680000  ",
      "text/html": "<div>\n<style scoped>\n    .dataframe tbody tr th:only-of-type {\n        vertical-align: middle;\n    }\n\n    .dataframe tbody tr th {\n        vertical-align: top;\n    }\n\n    .dataframe thead th {\n        text-align: right;\n    }\n</style>\n<table border=\"1\" class=\"dataframe\">\n  <thead>\n    <tr style=\"text-align: right;\">\n      <th></th>\n      <th>PPID</th>\n      <th>PP</th>\n      <th>EAL</th>\n      <th>SEN</th>\n      <th>Att8Est</th>\n      <th>Att8Act</th>\n      <th>Att8Diff</th>\n      <th>EngEst</th>\n      <th>EngAct</th>\n      <th>EngDiff</th>\n      <th>MathsEst</th>\n      <th>MathsAct</th>\n      <th>MathsDiff</th>\n      <th>EbaccEst</th>\n      <th>EbaccAct</th>\n      <th>EbaccDiff</th>\n    </tr>\n  </thead>\n  <tbody>\n    <tr>\n      <th>count</th>\n      <td>910.000000</td>\n      <td>910.00000</td>\n      <td>910.000000</td>\n      <td>910.000000</td>\n      <td>910.000000</td>\n      <td>910.000000</td>\n      <td>910.000000</td>\n      <td>910.000000</td>\n      <td>910.000000</td>\n      <td>910.000000</td>\n      <td>910.000000</td>\n      <td>910.000000</td>\n      <td>910.000000</td>\n      <td>910.000000</td>\n      <td>910.000000</td>\n      <td>910.000000</td>\n    </tr>\n    <tr>\n      <th>mean</th>\n      <td>495.145055</td>\n      <td>0.33956</td>\n      <td>0.087912</td>\n      <td>0.250549</td>\n      <td>4.290330</td>\n      <td>3.658242</td>\n      <td>-0.643418</td>\n      <td>4.644505</td>\n      <td>4.093077</td>\n      <td>-0.553516</td>\n      <td>4.127582</td>\n      <td>3.675275</td>\n      <td>-0.456297</td>\n      <td>3.820769</td>\n      <td>2.695714</td>\n      <td>-1.119802</td>\n    </tr>\n    <tr>\n      <th>std</th>\n      <td>297.315060</td>\n      <td>0.47382</td>\n      <td>0.283323</td>\n      <td>0.433568</td>\n      <td>1.268565</td>\n      <td>1.679401</td>\n      <td>1.322242</td>\n      <td>1.156893</td>\n      <td>1.843589</td>\n      <td>1.595495</td>\n      <td>1.407202</td>\n      <td>1.907023</td>\n      <td>1.455472</td>\n      <td>1.466876</td>\n      <td>1.938009</td>\n      <td>1.596325</td>\n    </tr>\n    <tr>\n      <th>min</th>\n      <td>1.000000</td>\n      <td>0.00000</td>\n      <td>0.000000</td>\n      <td>0.000000</td>\n      <td>1.500000</td>\n      <td>0.000000</td>\n      <td>-6.810000</td>\n      <td>1.900000</td>\n      <td>0.000000</td>\n      <td>-6.940000</td>\n      <td>1.100000</td>\n      <td>0.000000</td>\n      <td>-7.010000</td>\n      <td>0.700000</td>\n      <td>0.000000</td>\n      <td>-6.650000</td>\n    </tr>\n    <tr>\n      <th>25%</th>\n      <td>250.000000</td>\n      <td>0.00000</td>\n      <td>0.000000</td>\n      <td>0.000000</td>\n      <td>3.400000</td>\n      <td>2.500000</td>\n      <td>-1.417500</td>\n      <td>3.900000</td>\n      <td>3.000000</td>\n      <td>-1.560000</td>\n      <td>3.200000</td>\n      <td>3.000000</td>\n      <td>-1.280000</td>\n      <td>2.800000</td>\n      <td>1.000000</td>\n      <td>-2.140000</td>\n    </tr>\n    <tr>\n      <th>50%</th>\n      <td>483.500000</td>\n      <td>0.00000</td>\n      <td>0.000000</td>\n      <td>0.000000</td>\n      <td>4.300000</td>\n      <td>3.700000</td>\n      <td>-0.630000</td>\n      <td>4.600000</td>\n      <td>4.000000</td>\n      <td>-0.580000</td>\n      <td>4.100000</td>\n      <td>4.000000</td>\n      <td>-0.500000</td>\n      <td>3.800000</td>\n      <td>2.300000</td>\n      <td>-1.160000</td>\n    </tr>\n    <tr>\n      <th>75%</th>\n      <td>743.000000</td>\n      <td>1.00000</td>\n      <td>0.000000</td>\n      <td>0.750000</td>\n      <td>5.100000</td>\n      <td>4.700000</td>\n      <td>0.210000</td>\n      <td>5.400000</td>\n      <td>5.500000</td>\n      <td>0.470000</td>\n      <td>5.000000</td>\n      <td>5.000000</td>\n      <td>0.407500</td>\n      <td>4.800000</td>\n      <td>4.000000</td>\n      <td>-0.117500</td>\n    </tr>\n    <tr>\n      <th>max</th>\n      <td>1037.000000</td>\n      <td>1.00000</td>\n      <td>1.000000</td>\n      <td>1.000000</td>\n      <td>7.700000</td>\n      <td>8.500000</td>\n      <td>4.040000</td>\n      <td>7.600000</td>\n      <td>9.000000</td>\n      <td>4.670000</td>\n      <td>7.900000</td>\n      <td>9.000000</td>\n      <td>4.800000</td>\n      <td>7.900000</td>\n      <td>9.000000</td>\n      <td>4.680000</td>\n    </tr>\n  </tbody>\n</table>\n</div>"
     },
     "execution_count": 17,
     "metadata": {},
     "output_type": "execute_result"
    }
   ]
  },
  {
   "cell_type": "markdown",
   "source": [
    "### X Axis\n",
    "- HML = Ability based on previous results ages 10/11. H= Higher, M = Middle, L = Lower\n",
    "- Re = Reading grade at aged 10\n",
    "- Wr = Writing grade at aged 10\n",
    "- Ma = Maths grade at aged 10\n",
    "\n",
    "### Y Axis\n",
    " - Att8Act = Actual Grades (this is the grade to be predicted)"
   ],
   "metadata": {
    "collapsed": false,
    "pycharm": {
     "name": "#%% md\n"
    }
   }
  },
  {
   "cell_type": "code",
   "execution_count": 18,
   "outputs": [
    {
     "data": {
      "text/plain": "        HML   Re   Wr   Ma\ncount   910  910  910  910\nunique    3   11   16   15\ntop       M   5C    4   4B\nfreq    504  186  280  184",
      "text/html": "<div>\n<style scoped>\n    .dataframe tbody tr th:only-of-type {\n        vertical-align: middle;\n    }\n\n    .dataframe tbody tr th {\n        vertical-align: top;\n    }\n\n    .dataframe thead th {\n        text-align: right;\n    }\n</style>\n<table border=\"1\" class=\"dataframe\">\n  <thead>\n    <tr style=\"text-align: right;\">\n      <th></th>\n      <th>HML</th>\n      <th>Re</th>\n      <th>Wr</th>\n      <th>Ma</th>\n    </tr>\n  </thead>\n  <tbody>\n    <tr>\n      <th>count</th>\n      <td>910</td>\n      <td>910</td>\n      <td>910</td>\n      <td>910</td>\n    </tr>\n    <tr>\n      <th>unique</th>\n      <td>3</td>\n      <td>11</td>\n      <td>16</td>\n      <td>15</td>\n    </tr>\n    <tr>\n      <th>top</th>\n      <td>M</td>\n      <td>5C</td>\n      <td>4</td>\n      <td>4B</td>\n    </tr>\n    <tr>\n      <th>freq</th>\n      <td>504</td>\n      <td>186</td>\n      <td>280</td>\n      <td>184</td>\n    </tr>\n  </tbody>\n</table>\n</div>"
     },
     "execution_count": 18,
     "metadata": {},
     "output_type": "execute_result"
    }
   ],
   "source": [
    "Y = students_data_frame.Att8Act\n",
    "students_features = [ 'HML', 'Re', 'Wr', 'Ma']\n",
    "X = students_data_frame[students_features]\n",
    "X.describe()"
   ],
   "metadata": {
    "collapsed": false,
    "pycharm": {
     "name": "#%%\n"
    }
   }
  },
  {
   "cell_type": "code",
   "execution_count": 19,
   "outputs": [
    {
     "name": "stdout",
     "output_type": "stream",
     "text": [
      "HML    182.0\n",
      "dtype: float64\n"
     ]
    }
   ],
   "source": [
    "X.head()\n",
    "print((X[[\"HML\"]].count() * 0.20))"
   ],
   "metadata": {
    "collapsed": false,
    "pycharm": {
     "name": "#%%\n"
    }
   }
  },
  {
   "cell_type": "markdown",
   "source": [
    "# Choosing & Training the Model\n",
    "We will be using Decision tree for this data set"
   ],
   "metadata": {
    "collapsed": false,
    "pycharm": {
     "name": "#%% md\n"
    }
   }
  },
  {
   "cell_type": "code",
   "execution_count": 20,
   "outputs": [
    {
     "ename": "ValueError",
     "evalue": "could not convert string to float: 'L'",
     "output_type": "error",
     "traceback": [
      "\u001B[0;31m---------------------------------------------------------------------------\u001B[0m",
      "\u001B[0;31mValueError\u001B[0m                                Traceback (most recent call last)",
      "\u001B[0;32m/var/folders/8t/_87955ln68l3c3cqcyp44jy80000gn/T/ipykernel_17084/621951632.py\u001B[0m in \u001B[0;36m<module>\u001B[0;34m\u001B[0m\n\u001B[1;32m      5\u001B[0m \u001B[0;34m\u001B[0m\u001B[0m\n\u001B[1;32m      6\u001B[0m \u001B[0;31m#Fitting Model\u001B[0m\u001B[0;34m\u001B[0m\u001B[0;34m\u001B[0m\u001B[0;34m\u001B[0m\u001B[0m\n\u001B[0;32m----> 7\u001B[0;31m \u001B[0mstudents_decision_tree_model\u001B[0m\u001B[0;34m.\u001B[0m\u001B[0mfit\u001B[0m\u001B[0;34m(\u001B[0m\u001B[0mX\u001B[0m\u001B[0;34m,\u001B[0m \u001B[0mY\u001B[0m\u001B[0;34m)\u001B[0m\u001B[0;34m\u001B[0m\u001B[0;34m\u001B[0m\u001B[0m\n\u001B[0m",
      "\u001B[0;32m/usr/local/lib/python3.9/site-packages/sklearn/tree/_classes.py\u001B[0m in \u001B[0;36mfit\u001B[0;34m(self, X, y, sample_weight, check_input, X_idx_sorted)\u001B[0m\n\u001B[1;32m   1250\u001B[0m         \"\"\"\n\u001B[1;32m   1251\u001B[0m \u001B[0;34m\u001B[0m\u001B[0m\n\u001B[0;32m-> 1252\u001B[0;31m         super().fit(\n\u001B[0m\u001B[1;32m   1253\u001B[0m             \u001B[0mX\u001B[0m\u001B[0;34m,\u001B[0m \u001B[0my\u001B[0m\u001B[0;34m,\u001B[0m\u001B[0;34m\u001B[0m\u001B[0;34m\u001B[0m\u001B[0m\n\u001B[1;32m   1254\u001B[0m             \u001B[0msample_weight\u001B[0m\u001B[0;34m=\u001B[0m\u001B[0msample_weight\u001B[0m\u001B[0;34m,\u001B[0m\u001B[0;34m\u001B[0m\u001B[0;34m\u001B[0m\u001B[0m\n",
      "\u001B[0;32m/usr/local/lib/python3.9/site-packages/sklearn/tree/_classes.py\u001B[0m in \u001B[0;36mfit\u001B[0;34m(self, X, y, sample_weight, check_input, X_idx_sorted)\u001B[0m\n\u001B[1;32m    155\u001B[0m             \u001B[0mcheck_X_params\u001B[0m \u001B[0;34m=\u001B[0m \u001B[0mdict\u001B[0m\u001B[0;34m(\u001B[0m\u001B[0mdtype\u001B[0m\u001B[0;34m=\u001B[0m\u001B[0mDTYPE\u001B[0m\u001B[0;34m,\u001B[0m \u001B[0maccept_sparse\u001B[0m\u001B[0;34m=\u001B[0m\u001B[0;34m\"csc\"\u001B[0m\u001B[0;34m)\u001B[0m\u001B[0;34m\u001B[0m\u001B[0;34m\u001B[0m\u001B[0m\n\u001B[1;32m    156\u001B[0m             \u001B[0mcheck_y_params\u001B[0m \u001B[0;34m=\u001B[0m \u001B[0mdict\u001B[0m\u001B[0;34m(\u001B[0m\u001B[0mensure_2d\u001B[0m\u001B[0;34m=\u001B[0m\u001B[0;32mFalse\u001B[0m\u001B[0;34m,\u001B[0m \u001B[0mdtype\u001B[0m\u001B[0;34m=\u001B[0m\u001B[0;32mNone\u001B[0m\u001B[0;34m)\u001B[0m\u001B[0;34m\u001B[0m\u001B[0;34m\u001B[0m\u001B[0m\n\u001B[0;32m--> 157\u001B[0;31m             X, y = self._validate_data(X, y,\n\u001B[0m\u001B[1;32m    158\u001B[0m                                        validate_separately=(check_X_params,\n\u001B[1;32m    159\u001B[0m                                                             check_y_params))\n",
      "\u001B[0;32m/usr/local/lib/python3.9/site-packages/sklearn/base.py\u001B[0m in \u001B[0;36m_validate_data\u001B[0;34m(self, X, y, reset, validate_separately, **check_params)\u001B[0m\n\u001B[1;32m    428\u001B[0m                 \u001B[0;31m# :(\u001B[0m\u001B[0;34m\u001B[0m\u001B[0;34m\u001B[0m\u001B[0;34m\u001B[0m\u001B[0m\n\u001B[1;32m    429\u001B[0m                 \u001B[0mcheck_X_params\u001B[0m\u001B[0;34m,\u001B[0m \u001B[0mcheck_y_params\u001B[0m \u001B[0;34m=\u001B[0m \u001B[0mvalidate_separately\u001B[0m\u001B[0;34m\u001B[0m\u001B[0;34m\u001B[0m\u001B[0m\n\u001B[0;32m--> 430\u001B[0;31m                 \u001B[0mX\u001B[0m \u001B[0;34m=\u001B[0m \u001B[0mcheck_array\u001B[0m\u001B[0;34m(\u001B[0m\u001B[0mX\u001B[0m\u001B[0;34m,\u001B[0m \u001B[0;34m**\u001B[0m\u001B[0mcheck_X_params\u001B[0m\u001B[0;34m)\u001B[0m\u001B[0;34m\u001B[0m\u001B[0;34m\u001B[0m\u001B[0m\n\u001B[0m\u001B[1;32m    431\u001B[0m                 \u001B[0my\u001B[0m \u001B[0;34m=\u001B[0m \u001B[0mcheck_array\u001B[0m\u001B[0;34m(\u001B[0m\u001B[0my\u001B[0m\u001B[0;34m,\u001B[0m \u001B[0;34m**\u001B[0m\u001B[0mcheck_y_params\u001B[0m\u001B[0;34m)\u001B[0m\u001B[0;34m\u001B[0m\u001B[0;34m\u001B[0m\u001B[0m\n\u001B[1;32m    432\u001B[0m             \u001B[0;32melse\u001B[0m\u001B[0;34m:\u001B[0m\u001B[0;34m\u001B[0m\u001B[0;34m\u001B[0m\u001B[0m\n",
      "\u001B[0;32m/usr/local/lib/python3.9/site-packages/sklearn/utils/validation.py\u001B[0m in \u001B[0;36minner_f\u001B[0;34m(*args, **kwargs)\u001B[0m\n\u001B[1;32m     61\u001B[0m             \u001B[0mextra_args\u001B[0m \u001B[0;34m=\u001B[0m \u001B[0mlen\u001B[0m\u001B[0;34m(\u001B[0m\u001B[0margs\u001B[0m\u001B[0;34m)\u001B[0m \u001B[0;34m-\u001B[0m \u001B[0mlen\u001B[0m\u001B[0;34m(\u001B[0m\u001B[0mall_args\u001B[0m\u001B[0;34m)\u001B[0m\u001B[0;34m\u001B[0m\u001B[0;34m\u001B[0m\u001B[0m\n\u001B[1;32m     62\u001B[0m             \u001B[0;32mif\u001B[0m \u001B[0mextra_args\u001B[0m \u001B[0;34m<=\u001B[0m \u001B[0;36m0\u001B[0m\u001B[0;34m:\u001B[0m\u001B[0;34m\u001B[0m\u001B[0;34m\u001B[0m\u001B[0m\n\u001B[0;32m---> 63\u001B[0;31m                 \u001B[0;32mreturn\u001B[0m \u001B[0mf\u001B[0m\u001B[0;34m(\u001B[0m\u001B[0;34m*\u001B[0m\u001B[0margs\u001B[0m\u001B[0;34m,\u001B[0m \u001B[0;34m**\u001B[0m\u001B[0mkwargs\u001B[0m\u001B[0;34m)\u001B[0m\u001B[0;34m\u001B[0m\u001B[0;34m\u001B[0m\u001B[0m\n\u001B[0m\u001B[1;32m     64\u001B[0m \u001B[0;34m\u001B[0m\u001B[0m\n\u001B[1;32m     65\u001B[0m             \u001B[0;31m# extra_args > 0\u001B[0m\u001B[0;34m\u001B[0m\u001B[0;34m\u001B[0m\u001B[0;34m\u001B[0m\u001B[0m\n",
      "\u001B[0;32m/usr/local/lib/python3.9/site-packages/sklearn/utils/validation.py\u001B[0m in \u001B[0;36mcheck_array\u001B[0;34m(array, accept_sparse, accept_large_sparse, dtype, order, copy, force_all_finite, ensure_2d, allow_nd, ensure_min_samples, ensure_min_features, estimator)\u001B[0m\n\u001B[1;32m    671\u001B[0m                     \u001B[0marray\u001B[0m \u001B[0;34m=\u001B[0m \u001B[0marray\u001B[0m\u001B[0;34m.\u001B[0m\u001B[0mastype\u001B[0m\u001B[0;34m(\u001B[0m\u001B[0mdtype\u001B[0m\u001B[0;34m,\u001B[0m \u001B[0mcasting\u001B[0m\u001B[0;34m=\u001B[0m\u001B[0;34m\"unsafe\"\u001B[0m\u001B[0;34m,\u001B[0m \u001B[0mcopy\u001B[0m\u001B[0;34m=\u001B[0m\u001B[0;32mFalse\u001B[0m\u001B[0;34m)\u001B[0m\u001B[0;34m\u001B[0m\u001B[0;34m\u001B[0m\u001B[0m\n\u001B[1;32m    672\u001B[0m                 \u001B[0;32melse\u001B[0m\u001B[0;34m:\u001B[0m\u001B[0;34m\u001B[0m\u001B[0;34m\u001B[0m\u001B[0m\n\u001B[0;32m--> 673\u001B[0;31m                     \u001B[0marray\u001B[0m \u001B[0;34m=\u001B[0m \u001B[0mnp\u001B[0m\u001B[0;34m.\u001B[0m\u001B[0masarray\u001B[0m\u001B[0;34m(\u001B[0m\u001B[0marray\u001B[0m\u001B[0;34m,\u001B[0m \u001B[0morder\u001B[0m\u001B[0;34m=\u001B[0m\u001B[0morder\u001B[0m\u001B[0;34m,\u001B[0m \u001B[0mdtype\u001B[0m\u001B[0;34m=\u001B[0m\u001B[0mdtype\u001B[0m\u001B[0;34m)\u001B[0m\u001B[0;34m\u001B[0m\u001B[0;34m\u001B[0m\u001B[0m\n\u001B[0m\u001B[1;32m    674\u001B[0m             \u001B[0;32mexcept\u001B[0m \u001B[0mComplexWarning\u001B[0m \u001B[0;32mas\u001B[0m \u001B[0mcomplex_warning\u001B[0m\u001B[0;34m:\u001B[0m\u001B[0;34m\u001B[0m\u001B[0;34m\u001B[0m\u001B[0m\n\u001B[1;32m    675\u001B[0m                 raise ValueError(\"Complex data not supported\\n\"\n",
      "\u001B[0;32m/usr/local/lib/python3.9/site-packages/pandas/core/generic.py\u001B[0m in \u001B[0;36m__array__\u001B[0;34m(self, dtype)\u001B[0m\n\u001B[1;32m   1988\u001B[0m \u001B[0;34m\u001B[0m\u001B[0m\n\u001B[1;32m   1989\u001B[0m     \u001B[0;32mdef\u001B[0m \u001B[0m__array__\u001B[0m\u001B[0;34m(\u001B[0m\u001B[0mself\u001B[0m\u001B[0;34m,\u001B[0m \u001B[0mdtype\u001B[0m\u001B[0;34m:\u001B[0m \u001B[0mNpDtype\u001B[0m \u001B[0;34m|\u001B[0m \u001B[0;32mNone\u001B[0m \u001B[0;34m=\u001B[0m \u001B[0;32mNone\u001B[0m\u001B[0;34m)\u001B[0m \u001B[0;34m->\u001B[0m \u001B[0mnp\u001B[0m\u001B[0;34m.\u001B[0m\u001B[0mndarray\u001B[0m\u001B[0;34m:\u001B[0m\u001B[0;34m\u001B[0m\u001B[0;34m\u001B[0m\u001B[0m\n\u001B[0;32m-> 1990\u001B[0;31m         \u001B[0;32mreturn\u001B[0m \u001B[0mnp\u001B[0m\u001B[0;34m.\u001B[0m\u001B[0masarray\u001B[0m\u001B[0;34m(\u001B[0m\u001B[0mself\u001B[0m\u001B[0;34m.\u001B[0m\u001B[0m_values\u001B[0m\u001B[0;34m,\u001B[0m \u001B[0mdtype\u001B[0m\u001B[0;34m=\u001B[0m\u001B[0mdtype\u001B[0m\u001B[0;34m)\u001B[0m\u001B[0;34m\u001B[0m\u001B[0;34m\u001B[0m\u001B[0m\n\u001B[0m\u001B[1;32m   1991\u001B[0m \u001B[0;34m\u001B[0m\u001B[0m\n\u001B[1;32m   1992\u001B[0m     def __array_wrap__(\n",
      "\u001B[0;31mValueError\u001B[0m: could not convert string to float: 'L'"
     ]
    }
   ],
   "source": [
    "from sklearn.tree import  DecisionTreeRegressor\n",
    "\n",
    "# Define model. Specify a number for random_state to ensure same results each run\n",
    "students_decision_tree_model = DecisionTreeRegressor(random_state=1)\n",
    "\n",
    "X.map()\n",
    "\n",
    "#Fitting Model\n",
    "students_decision_tree_model.fit(X, Y)"
   ],
   "metadata": {
    "collapsed": false,
    "pycharm": {
     "name": "#%%\n"
    }
   }
  }
 ],
 "metadata": {
  "kernelspec": {
   "name": "pycharm-6464615a",
   "language": "python",
   "display_name": "PyCharm (Student-Grades-ML)"
  },
  "language_info": {
   "codemirror_mode": {
    "name": "ipython",
    "version": 3
   },
   "file_extension": ".py",
   "mimetype": "text/x-python",
   "name": "python",
   "nbconvert_exporter": "python",
   "pygments_lexer": "ipython3",
   "version": "3.9.5"
  }
 },
 "nbformat": 4,
 "nbformat_minor": 5
}