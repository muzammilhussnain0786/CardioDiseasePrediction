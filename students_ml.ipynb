{
 "cells": [
  {
   "cell_type": "markdown",
   "id": "6a215fa3",
   "metadata": {},
   "source": [
    "# Load Data"
   ]
  },
  {
   "cell_type": "markdown",
   "id": "e940d9d0",
   "metadata": {},
   "source": [
    "load data from csv file. Dataset is from [Kaggle](https://www.kaggle.com/daviddraper1518/predicting-student-grades)"
   ]
  },
  {
   "cell_type": "code",
   "execution_count": 1,
   "id": "6af3de83",
   "metadata": {},
   "outputs": [
    {
     "data": {
      "text/plain": "              PPID           PP          EAL          SEN     Att8Est  \\\ncount  1037.000000  1034.000000  1037.000000  1033.000000  987.000000   \nmean    500.378978     0.345261     0.103182     0.240077    4.261601   \nstd     294.711937     0.475683     0.304344     0.427337    1.274717   \nmin       1.000000     0.000000     0.000000     0.000000    1.500000   \n25%     259.000000     0.000000     0.000000     0.000000    3.400000   \n50%     498.000000     0.000000     0.000000     0.000000    4.100000   \n75%     747.000000     1.000000     0.000000     0.000000    5.100000   \nmax    1037.000000     1.000000     1.000000     1.000000    7.700000   \n\n           Att8Act    Att8Diff      EngEst       EngAct     EngDiff  \\\ncount  1036.000000  987.000000  987.000000  1036.000000  987.000000   \nmean      3.661100   -0.631682    4.620061     4.079344   -0.550061   \nstd       1.664596    1.323029    1.160193     1.823130    1.591003   \nmin       0.000000   -6.810000    1.900000     0.000000   -6.940000   \n25%       2.500000   -1.455000    3.900000     3.000000   -1.520000   \n50%       3.650000   -0.620000    4.600000     4.000000   -0.570000   \n75%       4.700000    0.210000    5.400000     5.500000    0.470000   \nmax       8.500000    4.040000    7.600000     9.000000    4.670000   \n\n         MathsEst     MathsAct   MathsDiff    EbaccEst     EbaccAct  \\\ncount  987.000000  1036.000000  987.000000  987.000000  1036.000000   \nmean     4.103749     3.700772   -0.445937    3.774367     2.669112   \nstd      1.407433     1.920834    1.465290    1.482994     1.940962   \nmin      1.100000     0.000000   -7.010000    0.700000     0.000000   \n25%      3.100000     3.000000   -1.280000    2.800000     1.000000   \n50%      4.100000     4.000000   -0.530000    3.700000     2.300000   \n75%      5.000000     5.000000    0.420000    4.800000     4.000000   \nmax      7.900000     9.000000    4.800000    7.900000     9.000000   \n\n        EbaccDiff  \ncount  987.000000  \nmean    -1.120324  \nstd      1.611944  \nmin     -6.650000  \n25%     -2.150000  \n50%     -1.160000  \n75%     -0.140000  \nmax      4.680000  ",
      "text/html": "<div>\n<style scoped>\n    .dataframe tbody tr th:only-of-type {\n        vertical-align: middle;\n    }\n\n    .dataframe tbody tr th {\n        vertical-align: top;\n    }\n\n    .dataframe thead th {\n        text-align: right;\n    }\n</style>\n<table border=\"1\" class=\"dataframe\">\n  <thead>\n    <tr style=\"text-align: right;\">\n      <th></th>\n      <th>PPID</th>\n      <th>PP</th>\n      <th>EAL</th>\n      <th>SEN</th>\n      <th>Att8Est</th>\n      <th>Att8Act</th>\n      <th>Att8Diff</th>\n      <th>EngEst</th>\n      <th>EngAct</th>\n      <th>EngDiff</th>\n      <th>MathsEst</th>\n      <th>MathsAct</th>\n      <th>MathsDiff</th>\n      <th>EbaccEst</th>\n      <th>EbaccAct</th>\n      <th>EbaccDiff</th>\n    </tr>\n  </thead>\n  <tbody>\n    <tr>\n      <th>count</th>\n      <td>1037.000000</td>\n      <td>1034.000000</td>\n      <td>1037.000000</td>\n      <td>1033.000000</td>\n      <td>987.000000</td>\n      <td>1036.000000</td>\n      <td>987.000000</td>\n      <td>987.000000</td>\n      <td>1036.000000</td>\n      <td>987.000000</td>\n      <td>987.000000</td>\n      <td>1036.000000</td>\n      <td>987.000000</td>\n      <td>987.000000</td>\n      <td>1036.000000</td>\n      <td>987.000000</td>\n    </tr>\n    <tr>\n      <th>mean</th>\n      <td>500.378978</td>\n      <td>0.345261</td>\n      <td>0.103182</td>\n      <td>0.240077</td>\n      <td>4.261601</td>\n      <td>3.661100</td>\n      <td>-0.631682</td>\n      <td>4.620061</td>\n      <td>4.079344</td>\n      <td>-0.550061</td>\n      <td>4.103749</td>\n      <td>3.700772</td>\n      <td>-0.445937</td>\n      <td>3.774367</td>\n      <td>2.669112</td>\n      <td>-1.120324</td>\n    </tr>\n    <tr>\n      <th>std</th>\n      <td>294.711937</td>\n      <td>0.475683</td>\n      <td>0.304344</td>\n      <td>0.427337</td>\n      <td>1.274717</td>\n      <td>1.664596</td>\n      <td>1.323029</td>\n      <td>1.160193</td>\n      <td>1.823130</td>\n      <td>1.591003</td>\n      <td>1.407433</td>\n      <td>1.920834</td>\n      <td>1.465290</td>\n      <td>1.482994</td>\n      <td>1.940962</td>\n      <td>1.611944</td>\n    </tr>\n    <tr>\n      <th>min</th>\n      <td>1.000000</td>\n      <td>0.000000</td>\n      <td>0.000000</td>\n      <td>0.000000</td>\n      <td>1.500000</td>\n      <td>0.000000</td>\n      <td>-6.810000</td>\n      <td>1.900000</td>\n      <td>0.000000</td>\n      <td>-6.940000</td>\n      <td>1.100000</td>\n      <td>0.000000</td>\n      <td>-7.010000</td>\n      <td>0.700000</td>\n      <td>0.000000</td>\n      <td>-6.650000</td>\n    </tr>\n    <tr>\n      <th>25%</th>\n      <td>259.000000</td>\n      <td>0.000000</td>\n      <td>0.000000</td>\n      <td>0.000000</td>\n      <td>3.400000</td>\n      <td>2.500000</td>\n      <td>-1.455000</td>\n      <td>3.900000</td>\n      <td>3.000000</td>\n      <td>-1.520000</td>\n      <td>3.100000</td>\n      <td>3.000000</td>\n      <td>-1.280000</td>\n      <td>2.800000</td>\n      <td>1.000000</td>\n      <td>-2.150000</td>\n    </tr>\n    <tr>\n      <th>50%</th>\n      <td>498.000000</td>\n      <td>0.000000</td>\n      <td>0.000000</td>\n      <td>0.000000</td>\n      <td>4.100000</td>\n      <td>3.650000</td>\n      <td>-0.620000</td>\n      <td>4.600000</td>\n      <td>4.000000</td>\n      <td>-0.570000</td>\n      <td>4.100000</td>\n      <td>4.000000</td>\n      <td>-0.530000</td>\n      <td>3.700000</td>\n      <td>2.300000</td>\n      <td>-1.160000</td>\n    </tr>\n    <tr>\n      <th>75%</th>\n      <td>747.000000</td>\n      <td>1.000000</td>\n      <td>0.000000</td>\n      <td>0.000000</td>\n      <td>5.100000</td>\n      <td>4.700000</td>\n      <td>0.210000</td>\n      <td>5.400000</td>\n      <td>5.500000</td>\n      <td>0.470000</td>\n      <td>5.000000</td>\n      <td>5.000000</td>\n      <td>0.420000</td>\n      <td>4.800000</td>\n      <td>4.000000</td>\n      <td>-0.140000</td>\n    </tr>\n    <tr>\n      <th>max</th>\n      <td>1037.000000</td>\n      <td>1.000000</td>\n      <td>1.000000</td>\n      <td>1.000000</td>\n      <td>7.700000</td>\n      <td>8.500000</td>\n      <td>4.040000</td>\n      <td>7.600000</td>\n      <td>9.000000</td>\n      <td>4.670000</td>\n      <td>7.900000</td>\n      <td>9.000000</td>\n      <td>4.800000</td>\n      <td>7.900000</td>\n      <td>9.000000</td>\n      <td>4.680000</td>\n    </tr>\n  </tbody>\n</table>\n</div>"
     },
     "execution_count": 1,
     "metadata": {},
     "output_type": "execute_result"
    }
   ],
   "source": [
    "import pandas as pd\n",
    "\n",
    "file_path = 'students_dataset.csv'\n",
    "\n",
    "students_data_frame = pd.read_csv(file_path)\n",
    "\n",
    "students_data_frame.describe()\n",
    "\n"
   ]
  },
  {
   "cell_type": "markdown",
   "id": "15527f02",
   "metadata": {
    "pycharm": {
     "name": "#%% md\n"
    }
   },
   "source": [
    "# Selecting Data for Modeling"
   ]
  },
  {
   "cell_type": "code",
   "source": [
    "students_data_frame = students_data_frame.dropna()"
   ],
   "metadata": {
    "collapsed": false,
    "pycharm": {
     "name": "#%%\n"
    }
   },
   "execution_count": 2,
   "outputs": []
  },
  {
   "cell_type": "markdown",
   "source": [
    "### X Axis\n",
    "- HML = Ability based on previous results ages 10/11. H= Higher, M = Middle, L = Lower\n",
    "- Re = Reading grade at aged 10\n",
    "- Wr = Writing grade at aged 10\n",
    "- Ma = Maths grade at aged 10\n",
    "\n",
    "### Y Axis\n",
    " - Att8Act = Actual Grades (this is the grade to be predicted)"
   ],
   "metadata": {
    "collapsed": false,
    "pycharm": {
     "name": "#%% md\n"
    }
   }
  },
  {
   "cell_type": "code",
   "execution_count": 3,
   "outputs": [
    {
     "data": {
      "text/plain": "        HML   Re   Wr   Ma\ncount   910  910  910  910\nunique    3   11   16   15\ntop       M   5C    4   4B\nfreq    504  186  280  184",
      "text/html": "<div>\n<style scoped>\n    .dataframe tbody tr th:only-of-type {\n        vertical-align: middle;\n    }\n\n    .dataframe tbody tr th {\n        vertical-align: top;\n    }\n\n    .dataframe thead th {\n        text-align: right;\n    }\n</style>\n<table border=\"1\" class=\"dataframe\">\n  <thead>\n    <tr style=\"text-align: right;\">\n      <th></th>\n      <th>HML</th>\n      <th>Re</th>\n      <th>Wr</th>\n      <th>Ma</th>\n    </tr>\n  </thead>\n  <tbody>\n    <tr>\n      <th>count</th>\n      <td>910</td>\n      <td>910</td>\n      <td>910</td>\n      <td>910</td>\n    </tr>\n    <tr>\n      <th>unique</th>\n      <td>3</td>\n      <td>11</td>\n      <td>16</td>\n      <td>15</td>\n    </tr>\n    <tr>\n      <th>top</th>\n      <td>M</td>\n      <td>5C</td>\n      <td>4</td>\n      <td>4B</td>\n    </tr>\n    <tr>\n      <th>freq</th>\n      <td>504</td>\n      <td>186</td>\n      <td>280</td>\n      <td>184</td>\n    </tr>\n  </tbody>\n</table>\n</div>"
     },
     "execution_count": 3,
     "metadata": {},
     "output_type": "execute_result"
    }
   ],
   "source": [
    "Y = students_data_frame.Att8Act\n",
    "students_features = [ 'HML', 'Re', 'Wr', 'Ma']\n",
    "X = students_data_frame[students_features]\n",
    "X.describe()"
   ],
   "metadata": {
    "collapsed": false,
    "pycharm": {
     "name": "#%%\n"
    }
   }
  },
  {
   "cell_type": "code",
   "execution_count": 4,
   "outputs": [
    {
     "name": "stdout",
     "output_type": "stream",
     "text": [
      "HML    182.0\n",
      "dtype: float64\n"
     ]
    }
   ],
   "source": [
    "X.head()\n",
    "print((X[[\"HML\"]].count() * 0.20))"
   ],
   "metadata": {
    "collapsed": false,
    "pycharm": {
     "name": "#%%\n"
    }
   }
  },
  {
   "cell_type": "markdown",
   "source": [
    "# Choosing & Training the Model\n",
    "We will be using Decision tree for this data set"
   ],
   "metadata": {
    "collapsed": false,
    "pycharm": {
     "name": "#%% md\n"
    }
   }
  },
  {
   "cell_type": "code",
   "execution_count": 5,
   "outputs": [],
   "source": [
    "from sklearn.tree import  DecisionTreeRegressor\n",
    "\n",
    "# Define model. Specify a number for random_state to ensure same results each run\n",
    "students_decision_tree_model = DecisionTreeRegressor(random_state=1)\n",
    "\n",
    "#Fitting Model\n",
    "students_decision_tree_model.fit(X, Y)"
   ],
   "metadata": {
    "collapsed": false,
    "pycharm": {
     "name": "#%%\n"
    }
   }
  }
 ],
 "metadata": {
  "kernelspec": {
   "name": "pycharm-6464615a",
   "language": "python",
   "display_name": "PyCharm (Student-Grades-ML)"
  },
  "language_info": {
   "codemirror_mode": {
    "name": "ipython",
    "version": 3
   },
   "file_extension": ".py",
   "mimetype": "text/x-python",
   "name": "python",
   "nbconvert_exporter": "python",
   "pygments_lexer": "ipython3",
   "version": "3.9.5"
  }
 },
 "nbformat": 4,
 "nbformat_minor": 5
}