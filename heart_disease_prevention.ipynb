{
 "cells": [
  {
   "cell_type": "markdown",
   "id": "6a215fa3",
   "metadata": {},
   "source": [
    "# Load Data"
   ]
  },
  {
   "cell_type": "markdown",
   "id": "e940d9d0",
   "metadata": {},
   "source": [
    "load data from csv file. Dataset is from [Kaggle](https://www.kaggle.com/sulianova/cardiovascular-disease-dataset)"
   ]
  },
  {
   "cell_type": "code",
   "execution_count": 6,
   "id": "6af3de83",
   "metadata": {},
   "outputs": [
    {
     "data": {
      "text/plain": "                 id           age        gender        height        weight  \\\ncount  70000.000000  70000.000000  70000.000000  70000.000000  70000.000000   \nmean   49972.419900  19468.865814      1.349571    164.359229     74.205690   \nstd    28851.302323   2467.251667      0.476838      8.210126     14.395757   \nmin        0.000000  10798.000000      1.000000     55.000000     10.000000   \n25%    25006.750000  17664.000000      1.000000    159.000000     65.000000   \n50%    50001.500000  19703.000000      1.000000    165.000000     72.000000   \n75%    74889.250000  21327.000000      2.000000    170.000000     82.000000   \nmax    99999.000000  23713.000000      2.000000    250.000000    200.000000   \n\n              ap_hi         ap_lo   cholesterol          gluc         smoke  \\\ncount  70000.000000  70000.000000  70000.000000  70000.000000  70000.000000   \nmean     128.817286     96.630414      1.366871      1.226457      0.088129   \nstd      154.011419    188.472530      0.680250      0.572270      0.283484   \nmin     -150.000000    -70.000000      1.000000      1.000000      0.000000   \n25%      120.000000     80.000000      1.000000      1.000000      0.000000   \n50%      120.000000     80.000000      1.000000      1.000000      0.000000   \n75%      140.000000     90.000000      2.000000      1.000000      0.000000   \nmax    16020.000000  11000.000000      3.000000      3.000000      1.000000   \n\n               alco        active        cardio  \ncount  70000.000000  70000.000000  70000.000000  \nmean       0.053771      0.803729      0.499700  \nstd        0.225568      0.397179      0.500003  \nmin        0.000000      0.000000      0.000000  \n25%        0.000000      1.000000      0.000000  \n50%        0.000000      1.000000      0.000000  \n75%        0.000000      1.000000      1.000000  \nmax        1.000000      1.000000      1.000000  ",
      "text/html": "<div>\n<style scoped>\n    .dataframe tbody tr th:only-of-type {\n        vertical-align: middle;\n    }\n\n    .dataframe tbody tr th {\n        vertical-align: top;\n    }\n\n    .dataframe thead th {\n        text-align: right;\n    }\n</style>\n<table border=\"1\" class=\"dataframe\">\n  <thead>\n    <tr style=\"text-align: right;\">\n      <th></th>\n      <th>id</th>\n      <th>age</th>\n      <th>gender</th>\n      <th>height</th>\n      <th>weight</th>\n      <th>ap_hi</th>\n      <th>ap_lo</th>\n      <th>cholesterol</th>\n      <th>gluc</th>\n      <th>smoke</th>\n      <th>alco</th>\n      <th>active</th>\n      <th>cardio</th>\n    </tr>\n  </thead>\n  <tbody>\n    <tr>\n      <th>count</th>\n      <td>70000.000000</td>\n      <td>70000.000000</td>\n      <td>70000.000000</td>\n      <td>70000.000000</td>\n      <td>70000.000000</td>\n      <td>70000.000000</td>\n      <td>70000.000000</td>\n      <td>70000.000000</td>\n      <td>70000.000000</td>\n      <td>70000.000000</td>\n      <td>70000.000000</td>\n      <td>70000.000000</td>\n      <td>70000.000000</td>\n    </tr>\n    <tr>\n      <th>mean</th>\n      <td>49972.419900</td>\n      <td>19468.865814</td>\n      <td>1.349571</td>\n      <td>164.359229</td>\n      <td>74.205690</td>\n      <td>128.817286</td>\n      <td>96.630414</td>\n      <td>1.366871</td>\n      <td>1.226457</td>\n      <td>0.088129</td>\n      <td>0.053771</td>\n      <td>0.803729</td>\n      <td>0.499700</td>\n    </tr>\n    <tr>\n      <th>std</th>\n      <td>28851.302323</td>\n      <td>2467.251667</td>\n      <td>0.476838</td>\n      <td>8.210126</td>\n      <td>14.395757</td>\n      <td>154.011419</td>\n      <td>188.472530</td>\n      <td>0.680250</td>\n      <td>0.572270</td>\n      <td>0.283484</td>\n      <td>0.225568</td>\n      <td>0.397179</td>\n      <td>0.500003</td>\n    </tr>\n    <tr>\n      <th>min</th>\n      <td>0.000000</td>\n      <td>10798.000000</td>\n      <td>1.000000</td>\n      <td>55.000000</td>\n      <td>10.000000</td>\n      <td>-150.000000</td>\n      <td>-70.000000</td>\n      <td>1.000000</td>\n      <td>1.000000</td>\n      <td>0.000000</td>\n      <td>0.000000</td>\n      <td>0.000000</td>\n      <td>0.000000</td>\n    </tr>\n    <tr>\n      <th>25%</th>\n      <td>25006.750000</td>\n      <td>17664.000000</td>\n      <td>1.000000</td>\n      <td>159.000000</td>\n      <td>65.000000</td>\n      <td>120.000000</td>\n      <td>80.000000</td>\n      <td>1.000000</td>\n      <td>1.000000</td>\n      <td>0.000000</td>\n      <td>0.000000</td>\n      <td>1.000000</td>\n      <td>0.000000</td>\n    </tr>\n    <tr>\n      <th>50%</th>\n      <td>50001.500000</td>\n      <td>19703.000000</td>\n      <td>1.000000</td>\n      <td>165.000000</td>\n      <td>72.000000</td>\n      <td>120.000000</td>\n      <td>80.000000</td>\n      <td>1.000000</td>\n      <td>1.000000</td>\n      <td>0.000000</td>\n      <td>0.000000</td>\n      <td>1.000000</td>\n      <td>0.000000</td>\n    </tr>\n    <tr>\n      <th>75%</th>\n      <td>74889.250000</td>\n      <td>21327.000000</td>\n      <td>2.000000</td>\n      <td>170.000000</td>\n      <td>82.000000</td>\n      <td>140.000000</td>\n      <td>90.000000</td>\n      <td>2.000000</td>\n      <td>1.000000</td>\n      <td>0.000000</td>\n      <td>0.000000</td>\n      <td>1.000000</td>\n      <td>1.000000</td>\n    </tr>\n    <tr>\n      <th>max</th>\n      <td>99999.000000</td>\n      <td>23713.000000</td>\n      <td>2.000000</td>\n      <td>250.000000</td>\n      <td>200.000000</td>\n      <td>16020.000000</td>\n      <td>11000.000000</td>\n      <td>3.000000</td>\n      <td>3.000000</td>\n      <td>1.000000</td>\n      <td>1.000000</td>\n      <td>1.000000</td>\n      <td>1.000000</td>\n    </tr>\n  </tbody>\n</table>\n</div>"
     },
     "execution_count": 6,
     "metadata": {},
     "output_type": "execute_result"
    }
   ],
   "source": [
    "import pandas as pd\n",
    "\n",
    "file_path = 'cardio_train.csv'\n",
    "\n",
    "cardio_data_frame = pd.read_csv(file_path)\n",
    "\n",
    "cardio_data_frame.describe()\n",
    "\n"
   ]
  },
  {
   "cell_type": "markdown",
   "id": "15527f02",
   "metadata": {
    "pycharm": {
     "name": "#%% md\n"
    }
   },
   "source": [
    "# Selecting Data for Modeling"
   ]
  },
  {
   "cell_type": "code",
   "source": [
    "cardio_data_frame = cardio_data_frame.dropna()"
   ],
   "metadata": {
    "collapsed": false,
    "pycharm": {
     "name": "#%%\n"
    }
   },
   "execution_count": 7,
   "outputs": []
  },
  {
   "cell_type": "markdown",
   "source": [
    "### Features\n",
    "- Age | Objective Feature | age | int (days)\n",
    "- Height | Objective Feature | height | int (cm)\n",
    "- Weight | Objective Feature | weight | float (kg)\n",
    "- Gender | Objective Feature | gender | categorical code\n",
    "- Systolic blood pressure | Examination Feature | ap_hi | int\n",
    "- Diastolic blood pressure | Examination Feature | ap_lo | int\n",
    "- Cholesterol | Examination Feature | cholesterol | 1: normal, 2: above normal, 3: well above normal\n",
    "- Glucose | Examination Feature | gluc | 1: normal, 2: above normal, 3: well above normal\n",
    "- Smoking | Subjective Feature | smoke | binary\n",
    "- Alcohol intake | Subjective Feature | alco | binary\n",
    "- Physical activity | Subjective Feature | active | binary\n",
    "\n",
    "\n",
    "### Y Axis\n",
    " - Presence or absence of cardiovascular disease | Target Variable | cardio | binary"
   ],
   "metadata": {
    "collapsed": false,
    "pycharm": {
     "name": "#%% md\n"
    }
   }
  },
  {
   "cell_type": "markdown",
   "source": [
    "# Choosing & Training the Model\n",
    "We will be using Decision tree for this data set"
   ],
   "metadata": {
    "collapsed": false,
    "pycharm": {
     "name": "#%% md\n"
    }
   }
  },
  {
   "cell_type": "code",
   "execution_count": 10,
   "outputs": [],
   "source": [
    "from sklearn.tree import  DecisionTreeRegressor\n",
    "\n",
    "# Define model. Specify a number for random_state to ensure same results each run\n",
    "cardio_decision_tree_model = DecisionTreeRegressor(random_state=1)\n",
    "\n",
    "#Fitting Model"
   ],
   "metadata": {
    "collapsed": false,
    "pycharm": {
     "name": "#%%\n"
    }
   }
  }
 ],
 "metadata": {
  "kernelspec": {
   "name": "pycharm-6464615a",
   "language": "python",
   "display_name": "PyCharm (Student-Grades-ML)"
  },
  "language_info": {
   "codemirror_mode": {
    "name": "ipython",
    "version": 3
   },
   "file_extension": ".py",
   "mimetype": "text/x-python",
   "name": "python",
   "nbconvert_exporter": "python",
   "pygments_lexer": "ipython3",
   "version": "3.9.5"
  }
 },
 "nbformat": 4,
 "nbformat_minor": 5
}